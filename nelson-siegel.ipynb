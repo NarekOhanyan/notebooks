{
 "cells": [
  {
   "cell_type": "code",
   "execution_count": 1,
   "metadata": {},
   "outputs": [],
   "source": [
    "!pip install numpy, ipywidgets, matplotlib, appmode",
	"!jupyter nbextension     enable --py --sys-prefix appmode",
	"!jupyter serverextension     enable --py --sys-prefix appmode",
    "import numpy as np\n",
    "import ipywidgets as ipyw\n",
    "import matplotlib.pyplot as mpl"
   ]
  },
  {
   "cell_type": "code",
   "execution_count": 2,
   "metadata": {},
   "outputs": [],
   "source": [
    "tau = np.array(range(1,1+360))"
   ]
  },
  {
   "cell_type": "code",
   "execution_count": 17,
   "metadata": {},
   "outputs": [],
   "source": [
    "b1_sdr = ipyw.FloatSlider(value=3,min=0,max=5,step=0.1,description='β1:',readout_format='.1f',)\n",
    "b2_sdr = ipyw.FloatSlider(value=-2,min=-5,max=0,step=0.1,description='β2:',readout_format='.1f',)\n",
    "b3_sdr = ipyw.FloatSlider(value=0,min=-10,max=10,step=0.1,description='β3:',readout_format='.1f',)\n",
    "lam_sdr = ipyw.FloatSlider(value=0.0609,min=0.005,max=0.1,step=0.0001,description='λ:',readout_format='.4f',)\n",
    "mat_sdr = ipyw.FloatSlider(value=30,min=0,max=360,step=1,description='τ:',readout_format='.0f',)"
   ]
  },
  {
   "cell_type": "code",
   "execution_count": 18,
   "metadata": {},
   "outputs": [],
   "source": [
    "def getLoadings(lam,tau):\n",
    "    b1_loading = np.ones(360)\n",
    "    b2_loading = np.array((1-np.exp(-lam*tau))/(lam*tau))\n",
    "    b3_loading = np.array((1-np.exp(-lam*tau))/(lam*tau)-np.exp(-lam*tau))\n",
    "    return np.vstack((b1_loading,b2_loading,b3_loading)).T"
   ]
  },
  {
   "cell_type": "code",
   "execution_count": 19,
   "metadata": {},
   "outputs": [],
   "source": [
    "def updateGraphLam(lam):\n",
    "    X = getLoadings(lam,tau)\n",
    "    mpl.plot(tau,X[:,0])\n",
    "    mpl.plot(tau,X[:,1])\n",
    "    mpl.plot(tau,X[:,2])\n",
    "    mpl.ylim(0,1.2)\n",
    "    mpl.xticks(ticks=range(0,361,60))\n",
    "    mpl.show()"
   ]
  },
  {
   "cell_type": "code",
   "execution_count": 20,
   "metadata": {},
   "outputs": [
    {
     "data": {
      "application/vnd.jupyter.widget-view+json": {
       "model_id": "41d23196ba924c72a9632304671c8d21",
       "version_major": 2,
       "version_minor": 0
      },
      "text/plain": [
       "interactive(children=(FloatSlider(value=0.0609, description='λ:', max=0.1, min=0.005, readout_format='.4f', st…"
      ]
     },
     "metadata": {},
     "output_type": "display_data"
    }
   ],
   "source": [
    "ipyw.interact(updateGraphLam,lam=lam_sdr);"
   ]
  },
  {
   "cell_type": "code",
   "execution_count": 21,
   "metadata": {},
   "outputs": [],
   "source": [
    "def YieldCurveLam(b1,b2,b3,lam):\n",
    "    X = getLoadings(lam,tau)\n",
    "    return X @ np.array([b1,b2,b3]).T"
   ]
  },
  {
   "cell_type": "code",
   "execution_count": 22,
   "metadata": {},
   "outputs": [],
   "source": [
    "def updateGraphBetasLam(b1,b2,b3,lam):\n",
    "    YC = YieldCurveLam(b1,b2,b3,lam)\n",
    "    mpl.plot(tau,YC)\n",
    "    mpl.ylim(0,5)\n",
    "    mpl.xticks(ticks=range(0,361,60))\n",
    "    mpl.show()"
   ]
  },
  {
   "cell_type": "code",
   "execution_count": 23,
   "metadata": {},
   "outputs": [
    {
     "data": {
      "application/vnd.jupyter.widget-view+json": {
       "model_id": "6f14338d48264b3c91ac15b8770f89de",
       "version_major": 2,
       "version_minor": 0
      },
      "text/plain": [
       "interactive(children=(FloatSlider(value=3.0, description='β1:', max=5.0, readout_format='.1f'), FloatSlider(va…"
      ]
     },
     "metadata": {},
     "output_type": "display_data"
    }
   ],
   "source": [
    "ipyw.interact(updateGraphBetasLam,b1=b1_sdr,b2=b2_sdr,b3=b3_sdr,lam=lam_sdr);"
   ]
  },
  {
   "cell_type": "markdown",
   "metadata": {},
   "source": [
    "def YieldCurveMat(b1,b2,b3,mat):\n",
    "    X = getLoadings(1/mat,tau)\n",
    "    return X @ np.array([b1,b2,b3]).T"
   ]
  },
  {
   "cell_type": "markdown",
   "metadata": {},
   "source": [
    "def updateGraphMat(b1,b2,b3,mat):\n",
    "    YC = YieldCurveMat(b1,b2,b3,mat)\n",
    "    mpl.plot(tau,YC)\n",
    "    mpl.ylim(0,5)\n",
    "    mpl.xticks(ticks=range(0,361,60))\n",
    "    mpl.show()"
   ]
  },
  {
   "cell_type": "markdown",
   "metadata": {},
   "source": [
    "ipyw.interact(updateGraphMat,b1=b1_sdr,b2=b2_sdr,b3=b3_sdr,mat=mat_sdr);"
   ]
  },
  {
   "cell_type": "markdown",
   "metadata": {},
   "source": [
    "from sympy import *"
   ]
  },
  {
   "cell_type": "markdown",
   "metadata": {},
   "source": [
    "λ = symbols('λ')\n",
    "τ = symbols('τ')"
   ]
  },
  {
   "cell_type": "markdown",
   "metadata": {},
   "source": [
    "# db2/dx\n",
    "Lb2 = (1-exp(-λ*τ))/(λ*τ)\n",
    "diff(Lb2,λ)"
   ]
  },
  {
   "cell_type": "markdown",
   "metadata": {},
   "source": [
    "# db3/dx\n",
    "Lb3 = (1-exp(-λ*τ))/(λ*τ)-exp(-λ*τ)\n",
    "diff(Lb3,λ)"
   ]
  },
  {
   "cell_type": "code",
   "execution_count": null,
   "metadata": {},
   "outputs": [],
   "source": []
  }
 ],
 "metadata": {
  "kernelspec": {
   "display_name": "Python 3",
   "language": "python",
   "name": "python3"
  },
  "language_info": {
   "codemirror_mode": {
    "name": "ipython",
    "version": 3
   },
   "file_extension": ".py",
   "mimetype": "text/x-python",
   "name": "python",
   "nbconvert_exporter": "python",
   "pygments_lexer": "ipython3",
   "version": "3.7.4"
  },
  "varInspector": {
   "cols": {
    "lenName": 16,
    "lenType": 16,
    "lenVar": 40
   },
   "kernels_config": {
    "python": {
     "delete_cmd_postfix": "",
     "delete_cmd_prefix": "del ",
     "library": "var_list.py",
     "varRefreshCmd": "print(var_dic_list())"
    },
    "r": {
     "delete_cmd_postfix": ") ",
     "delete_cmd_prefix": "rm(",
     "library": "var_list.r",
     "varRefreshCmd": "cat(var_dic_list()) "
    }
   },
   "position": {
    "height": "144px",
    "left": "994px",
    "right": "20px",
    "top": "124px",
    "width": "350px"
   },
   "types_to_exclude": [
    "module",
    "function",
    "builtin_function_or_method",
    "instance",
    "_Feature"
   ],
   "window_display": false
  }
 },
 "nbformat": 4,
 "nbformat_minor": 4
}
